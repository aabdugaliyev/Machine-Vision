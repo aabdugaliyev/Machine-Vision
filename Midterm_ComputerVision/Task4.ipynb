{
 "cells": [
  {
   "cell_type": "code",
   "execution_count": 2,
   "metadata": {},
   "outputs": [
    {
     "name": "stdout",
     "output_type": "stream",
     "text": [
      "152.0\n"
     ]
    },
    {
     "ename": "NameError",
     "evalue": "name 'nimg' is not defined",
     "output_type": "error",
     "traceback": [
      "\u001b[1;31m---------------------------------------------------------------------------\u001b[0m",
      "\u001b[1;31mNameError\u001b[0m                                 Traceback (most recent call last)",
      "\u001b[1;32m<ipython-input-2-031a21daf53e>\u001b[0m in \u001b[0;36m<module>\u001b[1;34m()\u001b[0m\n\u001b[0;32m     46\u001b[0m \u001b[0mplt\u001b[0m\u001b[1;33m.\u001b[0m\u001b[0mimshow\u001b[0m\u001b[1;33m(\u001b[0m\u001b[0msobel_img\u001b[0m\u001b[1;33m,\u001b[0m \u001b[0mcmap\u001b[0m\u001b[1;33m=\u001b[0m\u001b[1;34m'gray'\u001b[0m\u001b[1;33m)\u001b[0m\u001b[1;33m\u001b[0m\u001b[0m\n\u001b[0;32m     47\u001b[0m \u001b[0mplt\u001b[0m\u001b[1;33m.\u001b[0m\u001b[0mtitle\u001b[0m\u001b[1;33m(\u001b[0m\u001b[1;34m'sobel'\u001b[0m\u001b[1;33m)\u001b[0m\u001b[1;33m\u001b[0m\u001b[0m\n\u001b[1;32m---> 48\u001b[1;33m \u001b[0mimage3\u001b[0m \u001b[1;33m=\u001b[0m \u001b[0mnimg\u001b[0m\u001b[1;33m.\u001b[0m\u001b[0msobel\u001b[0m\u001b[1;33m(\u001b[0m\u001b[0mglena\u001b[0m\u001b[1;33m)\u001b[0m\u001b[1;33m\u001b[0m\u001b[0m\n\u001b[0m\u001b[0;32m     49\u001b[0m \u001b[0mplt\u001b[0m\u001b[1;33m.\u001b[0m\u001b[0msubplot\u001b[0m\u001b[1;33m(\u001b[0m\u001b[1;36m6\u001b[0m\u001b[1;33m,\u001b[0m \u001b[1;36m2\u001b[0m\u001b[1;33m,\u001b[0m\u001b[1;36m5\u001b[0m \u001b[1;33m)\u001b[0m\u001b[1;33m\u001b[0m\u001b[0m\n\u001b[0;32m     50\u001b[0m \u001b[0mplt\u001b[0m\u001b[1;33m.\u001b[0m\u001b[0mimshow\u001b[0m\u001b[1;33m(\u001b[0m\u001b[0msobel_img\u001b[0m\u001b[1;33m,\u001b[0m \u001b[0mcmap\u001b[0m\u001b[1;33m=\u001b[0m\u001b[1;34m'gray'\u001b[0m\u001b[1;33m)\u001b[0m\u001b[1;33m\u001b[0m\u001b[0m\n",
      "\u001b[1;31mNameError\u001b[0m: name 'nimg' is not defined"
     ]
    }
   ],
   "source": [
    "import matplotlib.pyplot as plt\n",
    "import matplotlib.image as img\n",
    "import numpy as np\n",
    "from scipy import ndimage as ndimg\n",
    "from PIL import Image\n",
    "import math\n",
    "from skimage import data\n",
    "import random\n",
    "from skimage import feature\n",
    "from skimage import io\n",
    "from skimage.data import data_dir\n",
    "import matplotlib.pyplot as plt\n",
    "from skimage.morphology import disk\n",
    "from skimage.morphology import erosion, skeletonize, opening, closing\n",
    "#my_img = img.imread('lena_cover.jpg')\n",
    "fig = plt.figure(figsize=(15,60))\n",
    "glena = Image.open('lena.jpg').convert('L')\n",
    "#sobel_img= ndimg.filters.sobel(glena, axis=-1, output=None, mode='reflect', cval=0.0)\n",
    "sobel_img = ndimg.sobel(glena,0)\n",
    "# Binarization of lena\n",
    "tt_glena = np.median(glena) + 20\n",
    "print(tt_glena)\n",
    "b1_glena = glena > tt_glena\n",
    "\n",
    "# Erosion of both pics\n",
    "selem = disk(6)\n",
    "selem = disk(2)\n",
    "e_glena = erosion(b1_glena, selem)\n",
    "\n",
    "# Skeletonization\n",
    "sk_glena = skeletonize(e_glena == 0)\n",
    "\n",
    "\n",
    "# Canny filter\n",
    "c_glena = feature.canny(e_glena, sigma=1)\n",
    "\n",
    "\n",
    "# Plotting\n",
    "plt.subplot(6, 2, 3)\n",
    "plt.imshow(glena, cmap='gray')\n",
    "plt.title('Original')\n",
    "plt.subplot(6, 2,4 )\n",
    "plt.imshow(c_glena, cmap='gray')\n",
    "plt.title('Canny')\n",
    "plt.subplot(6, 2,6 )\n",
    "plt.imshow(sobel_img, cmap='gray')\n",
    "plt.title('sobel')\n",
    "image3 = nimg.sobel(glena)\n",
    "plt.subplot(6, 2,5 )\n",
    "plt.imshow(sobel_img, cmap='gray')\n",
    "plt.title('sobel')\n",
    "plt.show()"
   ]
  },
  {
   "cell_type": "code",
   "execution_count": null,
   "metadata": {
    "collapsed": true
   },
   "outputs": [],
   "source": []
  },
  {
   "cell_type": "code",
   "execution_count": null,
   "metadata": {
    "collapsed": true
   },
   "outputs": [],
   "source": []
  }
 ],
 "metadata": {
  "kernelspec": {
   "display_name": "Python 3",
   "language": "python",
   "name": "python3"
  },
  "language_info": {
   "codemirror_mode": {
    "name": "ipython",
    "version": 3
   },
   "file_extension": ".py",
   "mimetype": "text/x-python",
   "name": "python",
   "nbconvert_exporter": "python",
   "pygments_lexer": "ipython3",
   "version": "3.6.1"
  }
 },
 "nbformat": 4,
 "nbformat_minor": 2
}
