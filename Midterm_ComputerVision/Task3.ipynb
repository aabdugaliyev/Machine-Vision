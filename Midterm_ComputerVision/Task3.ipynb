{
 "cells": [
  {
   "cell_type": "code",
   "execution_count": 4,
   "metadata": {},
   "outputs": [
    {
     "data": {
      "text/plain": [
       "<matplotlib.image.AxesImage at 0x1498eea7940>"
      ]
     },
     "execution_count": 4,
     "metadata": {},
     "output_type": "execute_result"
    }
   ],
   "source": [
    "from scipy import ndimage as nimg\n",
    "import matplotlib.pyplot as plt\n",
    "import numpy as np\n",
    "import random\n",
    "import cv2\n",
    "from scipy import ndimage as nimg\n",
    "import numpy as np\n",
    "fig = plt.figure(figsize=(15,60))\n",
    "def sp_noise(image,prob):\n",
    "    output = np.zeros(image.shape,np.uint8)\n",
    "    thres = 1 - prob \n",
    "    for i in range(image.shape[0]):\n",
    "        for j in range(image.shape[1]):\n",
    "            rdn = random.random()\n",
    "            if rdn < prob:\n",
    "                output[i][j] = 0\n",
    "            elif rdn > thres:\n",
    "                output[i][j] = 255\n",
    "            else:\n",
    "                output[i][j] = image[i][j]\n",
    "    return output\n",
    "\n",
    "image = cv2.imread('tiger.jpg',0) # Only for grayscale image\n",
    "noise_img = sp_noise(image,0.05)\n",
    "cv2.imwrite('tiger.jpg', noise_img)\n",
    "output_img= cv2.imread('tiger.jpg',0)\n",
    "\n",
    "imlen_new = nimg.median_filter(output_img, size=3, footprint=None, output =None, \n",
    "                         mode='reflect', cval=0.0, origin = 0)\n",
    "\n",
    "plt.subplot(6, 2, 3)\n",
    "plt.title('Original')\n",
    "plt.imshow(image,cmap='gray')\n",
    "plt.subplot(6, 2, 4)\n",
    "plt.title('with noise')\n",
    "plt.imshow(output_img,cmap='gray')\n",
    "plt.subplot(6, 2, 5)\n",
    "plt.title('with filter')\n",
    "plt.imshow(imlen_new,cmap='gray')\n",
    "plt.subplot(6, 2, 6)\n",
    "plt.title('difference')\n",
    "plt.imshow((imlen_new-output_img), cmap='gray')"
   ]
  },
  {
   "cell_type": "code",
   "execution_count": null,
   "metadata": {
    "collapsed": true
   },
   "outputs": [],
   "source": []
  },
  {
   "cell_type": "code",
   "execution_count": null,
   "metadata": {
    "collapsed": true
   },
   "outputs": [],
   "source": []
  },
  {
   "cell_type": "code",
   "execution_count": null,
   "metadata": {
    "collapsed": true
   },
   "outputs": [],
   "source": []
  },
  {
   "cell_type": "code",
   "execution_count": null,
   "metadata": {
    "collapsed": true
   },
   "outputs": [],
   "source": []
  }
 ],
 "metadata": {
  "kernelspec": {
   "display_name": "Python 3",
   "language": "python",
   "name": "python3"
  },
  "language_info": {
   "codemirror_mode": {
    "name": "ipython",
    "version": 3
   },
   "file_extension": ".py",
   "mimetype": "text/x-python",
   "name": "python",
   "nbconvert_exporter": "python",
   "pygments_lexer": "ipython3",
   "version": "3.6.1"
  }
 },
 "nbformat": 4,
 "nbformat_minor": 2
}
